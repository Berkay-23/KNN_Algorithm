{
  "cells": [
    {
      "cell_type": "markdown",
      "source": [
        "# KNN (K-Nearest Neighbors) Algoritması\n",
        "\n",
        "---"
      ],
      "metadata": {
        "id": "6dir9wPzzlZv"
      }
    },
    {
      "cell_type": "code",
      "execution_count": 1,
      "metadata": {
        "collapsed": true,
        "id": "6qDSxhH2m01Q"
      },
      "outputs": [],
      "source": [
        "import pandas as pd\n",
        "import seaborn as sns\n",
        "import matplotlib.pyplot as plt\n",
        "from sklearn.model_selection import train_test_split"
      ]
    },
    {
      "cell_type": "markdown",
      "source": [
        "İris veri setini yüklendi\n",
        "\n",
        "---"
      ],
      "metadata": {
        "id": "Lq3qYOkmy9ve"
      }
    },
    {
      "cell_type": "code",
      "execution_count": 2,
      "metadata": {
        "pycharm": {
          "name": "#%%\n"
        },
        "colab": {
          "base_uri": "https://localhost:8080/",
          "height": 424
        },
        "id": "d_CFQYUGm01U",
        "outputId": "71d310ce-8174-44e3-ba2f-bc84f6c1e8ec"
      },
      "outputs": [
        {
          "output_type": "execute_result",
          "data": {
            "text/plain": [
              "     sepal_length  sepal_width  petal_length  petal_width    species\n",
              "0             5.1          3.5           1.4          0.2     setosa\n",
              "1             4.9          3.0           1.4          0.2     setosa\n",
              "2             4.7          3.2           1.3          0.2     setosa\n",
              "3             4.6          3.1           1.5          0.2     setosa\n",
              "4             5.0          3.6           1.4          0.2     setosa\n",
              "..            ...          ...           ...          ...        ...\n",
              "145           6.7          3.0           5.2          2.3  virginica\n",
              "146           6.3          2.5           5.0          1.9  virginica\n",
              "147           6.5          3.0           5.2          2.0  virginica\n",
              "148           6.2          3.4           5.4          2.3  virginica\n",
              "149           5.9          3.0           5.1          1.8  virginica\n",
              "\n",
              "[150 rows x 5 columns]"
            ],
            "text/html": [
              "\n",
              "  <div id=\"df-4a93d6e6-bc6f-4391-9c98-a8f3e82d90db\">\n",
              "    <div class=\"colab-df-container\">\n",
              "      <div>\n",
              "<style scoped>\n",
              "    .dataframe tbody tr th:only-of-type {\n",
              "        vertical-align: middle;\n",
              "    }\n",
              "\n",
              "    .dataframe tbody tr th {\n",
              "        vertical-align: top;\n",
              "    }\n",
              "\n",
              "    .dataframe thead th {\n",
              "        text-align: right;\n",
              "    }\n",
              "</style>\n",
              "<table border=\"1\" class=\"dataframe\">\n",
              "  <thead>\n",
              "    <tr style=\"text-align: right;\">\n",
              "      <th></th>\n",
              "      <th>sepal_length</th>\n",
              "      <th>sepal_width</th>\n",
              "      <th>petal_length</th>\n",
              "      <th>petal_width</th>\n",
              "      <th>species</th>\n",
              "    </tr>\n",
              "  </thead>\n",
              "  <tbody>\n",
              "    <tr>\n",
              "      <th>0</th>\n",
              "      <td>5.1</td>\n",
              "      <td>3.5</td>\n",
              "      <td>1.4</td>\n",
              "      <td>0.2</td>\n",
              "      <td>setosa</td>\n",
              "    </tr>\n",
              "    <tr>\n",
              "      <th>1</th>\n",
              "      <td>4.9</td>\n",
              "      <td>3.0</td>\n",
              "      <td>1.4</td>\n",
              "      <td>0.2</td>\n",
              "      <td>setosa</td>\n",
              "    </tr>\n",
              "    <tr>\n",
              "      <th>2</th>\n",
              "      <td>4.7</td>\n",
              "      <td>3.2</td>\n",
              "      <td>1.3</td>\n",
              "      <td>0.2</td>\n",
              "      <td>setosa</td>\n",
              "    </tr>\n",
              "    <tr>\n",
              "      <th>3</th>\n",
              "      <td>4.6</td>\n",
              "      <td>3.1</td>\n",
              "      <td>1.5</td>\n",
              "      <td>0.2</td>\n",
              "      <td>setosa</td>\n",
              "    </tr>\n",
              "    <tr>\n",
              "      <th>4</th>\n",
              "      <td>5.0</td>\n",
              "      <td>3.6</td>\n",
              "      <td>1.4</td>\n",
              "      <td>0.2</td>\n",
              "      <td>setosa</td>\n",
              "    </tr>\n",
              "    <tr>\n",
              "      <th>...</th>\n",
              "      <td>...</td>\n",
              "      <td>...</td>\n",
              "      <td>...</td>\n",
              "      <td>...</td>\n",
              "      <td>...</td>\n",
              "    </tr>\n",
              "    <tr>\n",
              "      <th>145</th>\n",
              "      <td>6.7</td>\n",
              "      <td>3.0</td>\n",
              "      <td>5.2</td>\n",
              "      <td>2.3</td>\n",
              "      <td>virginica</td>\n",
              "    </tr>\n",
              "    <tr>\n",
              "      <th>146</th>\n",
              "      <td>6.3</td>\n",
              "      <td>2.5</td>\n",
              "      <td>5.0</td>\n",
              "      <td>1.9</td>\n",
              "      <td>virginica</td>\n",
              "    </tr>\n",
              "    <tr>\n",
              "      <th>147</th>\n",
              "      <td>6.5</td>\n",
              "      <td>3.0</td>\n",
              "      <td>5.2</td>\n",
              "      <td>2.0</td>\n",
              "      <td>virginica</td>\n",
              "    </tr>\n",
              "    <tr>\n",
              "      <th>148</th>\n",
              "      <td>6.2</td>\n",
              "      <td>3.4</td>\n",
              "      <td>5.4</td>\n",
              "      <td>2.3</td>\n",
              "      <td>virginica</td>\n",
              "    </tr>\n",
              "    <tr>\n",
              "      <th>149</th>\n",
              "      <td>5.9</td>\n",
              "      <td>3.0</td>\n",
              "      <td>5.1</td>\n",
              "      <td>1.8</td>\n",
              "      <td>virginica</td>\n",
              "    </tr>\n",
              "  </tbody>\n",
              "</table>\n",
              "<p>150 rows × 5 columns</p>\n",
              "</div>\n",
              "      <button class=\"colab-df-convert\" onclick=\"convertToInteractive('df-4a93d6e6-bc6f-4391-9c98-a8f3e82d90db')\"\n",
              "              title=\"Convert this dataframe to an interactive table.\"\n",
              "              style=\"display:none;\">\n",
              "        \n",
              "  <svg xmlns=\"http://www.w3.org/2000/svg\" height=\"24px\"viewBox=\"0 0 24 24\"\n",
              "       width=\"24px\">\n",
              "    <path d=\"M0 0h24v24H0V0z\" fill=\"none\"/>\n",
              "    <path d=\"M18.56 5.44l.94 2.06.94-2.06 2.06-.94-2.06-.94-.94-2.06-.94 2.06-2.06.94zm-11 1L8.5 8.5l.94-2.06 2.06-.94-2.06-.94L8.5 2.5l-.94 2.06-2.06.94zm10 10l.94 2.06.94-2.06 2.06-.94-2.06-.94-.94-2.06-.94 2.06-2.06.94z\"/><path d=\"M17.41 7.96l-1.37-1.37c-.4-.4-.92-.59-1.43-.59-.52 0-1.04.2-1.43.59L10.3 9.45l-7.72 7.72c-.78.78-.78 2.05 0 2.83L4 21.41c.39.39.9.59 1.41.59.51 0 1.02-.2 1.41-.59l7.78-7.78 2.81-2.81c.8-.78.8-2.07 0-2.86zM5.41 20L4 18.59l7.72-7.72 1.47 1.35L5.41 20z\"/>\n",
              "  </svg>\n",
              "      </button>\n",
              "      \n",
              "  <style>\n",
              "    .colab-df-container {\n",
              "      display:flex;\n",
              "      flex-wrap:wrap;\n",
              "      gap: 12px;\n",
              "    }\n",
              "\n",
              "    .colab-df-convert {\n",
              "      background-color: #E8F0FE;\n",
              "      border: none;\n",
              "      border-radius: 50%;\n",
              "      cursor: pointer;\n",
              "      display: none;\n",
              "      fill: #1967D2;\n",
              "      height: 32px;\n",
              "      padding: 0 0 0 0;\n",
              "      width: 32px;\n",
              "    }\n",
              "\n",
              "    .colab-df-convert:hover {\n",
              "      background-color: #E2EBFA;\n",
              "      box-shadow: 0px 1px 2px rgba(60, 64, 67, 0.3), 0px 1px 3px 1px rgba(60, 64, 67, 0.15);\n",
              "      fill: #174EA6;\n",
              "    }\n",
              "\n",
              "    [theme=dark] .colab-df-convert {\n",
              "      background-color: #3B4455;\n",
              "      fill: #D2E3FC;\n",
              "    }\n",
              "\n",
              "    [theme=dark] .colab-df-convert:hover {\n",
              "      background-color: #434B5C;\n",
              "      box-shadow: 0px 1px 3px 1px rgba(0, 0, 0, 0.15);\n",
              "      filter: drop-shadow(0px 1px 2px rgba(0, 0, 0, 0.3));\n",
              "      fill: #FFFFFF;\n",
              "    }\n",
              "  </style>\n",
              "\n",
              "      <script>\n",
              "        const buttonEl =\n",
              "          document.querySelector('#df-4a93d6e6-bc6f-4391-9c98-a8f3e82d90db button.colab-df-convert');\n",
              "        buttonEl.style.display =\n",
              "          google.colab.kernel.accessAllowed ? 'block' : 'none';\n",
              "\n",
              "        async function convertToInteractive(key) {\n",
              "          const element = document.querySelector('#df-4a93d6e6-bc6f-4391-9c98-a8f3e82d90db');\n",
              "          const dataTable =\n",
              "            await google.colab.kernel.invokeFunction('convertToInteractive',\n",
              "                                                     [key], {});\n",
              "          if (!dataTable) return;\n",
              "\n",
              "          const docLinkHtml = 'Like what you see? Visit the ' +\n",
              "            '<a target=\"_blank\" href=https://colab.research.google.com/notebooks/data_table.ipynb>data table notebook</a>'\n",
              "            + ' to learn more about interactive tables.';\n",
              "          element.innerHTML = '';\n",
              "          dataTable['output_type'] = 'display_data';\n",
              "          await google.colab.output.renderOutput(dataTable, element);\n",
              "          const docLink = document.createElement('div');\n",
              "          docLink.innerHTML = docLinkHtml;\n",
              "          element.appendChild(docLink);\n",
              "        }\n",
              "      </script>\n",
              "    </div>\n",
              "  </div>\n",
              "  "
            ]
          },
          "metadata": {},
          "execution_count": 2
        }
      ],
      "source": [
        "df = sns.load_dataset(\"iris\")\n",
        "df"
      ]
    },
    {
      "cell_type": "markdown",
      "source": [
        "Veri setindeki numerik veriler normalizasyon işlemi için ayrıldı.\n",
        "\n",
        "---"
      ],
      "metadata": {
        "id": "pPEPHcM0zZSe"
      }
    },
    {
      "cell_type": "code",
      "execution_count": 3,
      "metadata": {
        "pycharm": {
          "name": "#%%\n"
        },
        "id": "mgLnZBdCm01V"
      },
      "outputs": [],
      "source": [
        "df_numeric = df.select_dtypes(include=['float64', 'int64'])"
      ]
    },
    {
      "cell_type": "markdown",
      "source": [
        "Veri setine min-max normalizasyonu uygulandı\n",
        "\n",
        "---"
      ],
      "metadata": {
        "id": "sI-DtY9GzQLm"
      }
    },
    {
      "cell_type": "code",
      "execution_count": 4,
      "metadata": {
        "pycharm": {
          "name": "#%%\n"
        },
        "id": "pj4NzgHCm01W"
      },
      "outputs": [],
      "source": [
        "normalized_df = (df_numeric - df_numeric.min()) / (df_numeric.max() - df_numeric.min())"
      ]
    },
    {
      "cell_type": "code",
      "execution_count": 5,
      "metadata": {
        "pycharm": {
          "name": "#%%\n"
        },
        "colab": {
          "base_uri": "https://localhost:8080/",
          "height": 424
        },
        "id": "6-o0vglam01W",
        "outputId": "f4a68554-4c0c-4f32-8d2d-a3d761e72af1"
      },
      "outputs": [
        {
          "output_type": "execute_result",
          "data": {
            "text/plain": [
              "     sepal_length  sepal_width  petal_length  petal_width    species\n",
              "0        0.222222     0.625000      0.067797     0.041667     setosa\n",
              "1        0.166667     0.416667      0.067797     0.041667     setosa\n",
              "2        0.111111     0.500000      0.050847     0.041667     setosa\n",
              "3        0.083333     0.458333      0.084746     0.041667     setosa\n",
              "4        0.194444     0.666667      0.067797     0.041667     setosa\n",
              "..            ...          ...           ...          ...        ...\n",
              "145      0.666667     0.416667      0.711864     0.916667  virginica\n",
              "146      0.555556     0.208333      0.677966     0.750000  virginica\n",
              "147      0.611111     0.416667      0.711864     0.791667  virginica\n",
              "148      0.527778     0.583333      0.745763     0.916667  virginica\n",
              "149      0.444444     0.416667      0.694915     0.708333  virginica\n",
              "\n",
              "[150 rows x 5 columns]"
            ],
            "text/html": [
              "\n",
              "  <div id=\"df-d8c9082c-d8ef-4da5-a2f6-d3de3305ef9e\">\n",
              "    <div class=\"colab-df-container\">\n",
              "      <div>\n",
              "<style scoped>\n",
              "    .dataframe tbody tr th:only-of-type {\n",
              "        vertical-align: middle;\n",
              "    }\n",
              "\n",
              "    .dataframe tbody tr th {\n",
              "        vertical-align: top;\n",
              "    }\n",
              "\n",
              "    .dataframe thead th {\n",
              "        text-align: right;\n",
              "    }\n",
              "</style>\n",
              "<table border=\"1\" class=\"dataframe\">\n",
              "  <thead>\n",
              "    <tr style=\"text-align: right;\">\n",
              "      <th></th>\n",
              "      <th>sepal_length</th>\n",
              "      <th>sepal_width</th>\n",
              "      <th>petal_length</th>\n",
              "      <th>petal_width</th>\n",
              "      <th>species</th>\n",
              "    </tr>\n",
              "  </thead>\n",
              "  <tbody>\n",
              "    <tr>\n",
              "      <th>0</th>\n",
              "      <td>0.222222</td>\n",
              "      <td>0.625000</td>\n",
              "      <td>0.067797</td>\n",
              "      <td>0.041667</td>\n",
              "      <td>setosa</td>\n",
              "    </tr>\n",
              "    <tr>\n",
              "      <th>1</th>\n",
              "      <td>0.166667</td>\n",
              "      <td>0.416667</td>\n",
              "      <td>0.067797</td>\n",
              "      <td>0.041667</td>\n",
              "      <td>setosa</td>\n",
              "    </tr>\n",
              "    <tr>\n",
              "      <th>2</th>\n",
              "      <td>0.111111</td>\n",
              "      <td>0.500000</td>\n",
              "      <td>0.050847</td>\n",
              "      <td>0.041667</td>\n",
              "      <td>setosa</td>\n",
              "    </tr>\n",
              "    <tr>\n",
              "      <th>3</th>\n",
              "      <td>0.083333</td>\n",
              "      <td>0.458333</td>\n",
              "      <td>0.084746</td>\n",
              "      <td>0.041667</td>\n",
              "      <td>setosa</td>\n",
              "    </tr>\n",
              "    <tr>\n",
              "      <th>4</th>\n",
              "      <td>0.194444</td>\n",
              "      <td>0.666667</td>\n",
              "      <td>0.067797</td>\n",
              "      <td>0.041667</td>\n",
              "      <td>setosa</td>\n",
              "    </tr>\n",
              "    <tr>\n",
              "      <th>...</th>\n",
              "      <td>...</td>\n",
              "      <td>...</td>\n",
              "      <td>...</td>\n",
              "      <td>...</td>\n",
              "      <td>...</td>\n",
              "    </tr>\n",
              "    <tr>\n",
              "      <th>145</th>\n",
              "      <td>0.666667</td>\n",
              "      <td>0.416667</td>\n",
              "      <td>0.711864</td>\n",
              "      <td>0.916667</td>\n",
              "      <td>virginica</td>\n",
              "    </tr>\n",
              "    <tr>\n",
              "      <th>146</th>\n",
              "      <td>0.555556</td>\n",
              "      <td>0.208333</td>\n",
              "      <td>0.677966</td>\n",
              "      <td>0.750000</td>\n",
              "      <td>virginica</td>\n",
              "    </tr>\n",
              "    <tr>\n",
              "      <th>147</th>\n",
              "      <td>0.611111</td>\n",
              "      <td>0.416667</td>\n",
              "      <td>0.711864</td>\n",
              "      <td>0.791667</td>\n",
              "      <td>virginica</td>\n",
              "    </tr>\n",
              "    <tr>\n",
              "      <th>148</th>\n",
              "      <td>0.527778</td>\n",
              "      <td>0.583333</td>\n",
              "      <td>0.745763</td>\n",
              "      <td>0.916667</td>\n",
              "      <td>virginica</td>\n",
              "    </tr>\n",
              "    <tr>\n",
              "      <th>149</th>\n",
              "      <td>0.444444</td>\n",
              "      <td>0.416667</td>\n",
              "      <td>0.694915</td>\n",
              "      <td>0.708333</td>\n",
              "      <td>virginica</td>\n",
              "    </tr>\n",
              "  </tbody>\n",
              "</table>\n",
              "<p>150 rows × 5 columns</p>\n",
              "</div>\n",
              "      <button class=\"colab-df-convert\" onclick=\"convertToInteractive('df-d8c9082c-d8ef-4da5-a2f6-d3de3305ef9e')\"\n",
              "              title=\"Convert this dataframe to an interactive table.\"\n",
              "              style=\"display:none;\">\n",
              "        \n",
              "  <svg xmlns=\"http://www.w3.org/2000/svg\" height=\"24px\"viewBox=\"0 0 24 24\"\n",
              "       width=\"24px\">\n",
              "    <path d=\"M0 0h24v24H0V0z\" fill=\"none\"/>\n",
              "    <path d=\"M18.56 5.44l.94 2.06.94-2.06 2.06-.94-2.06-.94-.94-2.06-.94 2.06-2.06.94zm-11 1L8.5 8.5l.94-2.06 2.06-.94-2.06-.94L8.5 2.5l-.94 2.06-2.06.94zm10 10l.94 2.06.94-2.06 2.06-.94-2.06-.94-.94-2.06-.94 2.06-2.06.94z\"/><path d=\"M17.41 7.96l-1.37-1.37c-.4-.4-.92-.59-1.43-.59-.52 0-1.04.2-1.43.59L10.3 9.45l-7.72 7.72c-.78.78-.78 2.05 0 2.83L4 21.41c.39.39.9.59 1.41.59.51 0 1.02-.2 1.41-.59l7.78-7.78 2.81-2.81c.8-.78.8-2.07 0-2.86zM5.41 20L4 18.59l7.72-7.72 1.47 1.35L5.41 20z\"/>\n",
              "  </svg>\n",
              "      </button>\n",
              "      \n",
              "  <style>\n",
              "    .colab-df-container {\n",
              "      display:flex;\n",
              "      flex-wrap:wrap;\n",
              "      gap: 12px;\n",
              "    }\n",
              "\n",
              "    .colab-df-convert {\n",
              "      background-color: #E8F0FE;\n",
              "      border: none;\n",
              "      border-radius: 50%;\n",
              "      cursor: pointer;\n",
              "      display: none;\n",
              "      fill: #1967D2;\n",
              "      height: 32px;\n",
              "      padding: 0 0 0 0;\n",
              "      width: 32px;\n",
              "    }\n",
              "\n",
              "    .colab-df-convert:hover {\n",
              "      background-color: #E2EBFA;\n",
              "      box-shadow: 0px 1px 2px rgba(60, 64, 67, 0.3), 0px 1px 3px 1px rgba(60, 64, 67, 0.15);\n",
              "      fill: #174EA6;\n",
              "    }\n",
              "\n",
              "    [theme=dark] .colab-df-convert {\n",
              "      background-color: #3B4455;\n",
              "      fill: #D2E3FC;\n",
              "    }\n",
              "\n",
              "    [theme=dark] .colab-df-convert:hover {\n",
              "      background-color: #434B5C;\n",
              "      box-shadow: 0px 1px 3px 1px rgba(0, 0, 0, 0.15);\n",
              "      filter: drop-shadow(0px 1px 2px rgba(0, 0, 0, 0.3));\n",
              "      fill: #FFFFFF;\n",
              "    }\n",
              "  </style>\n",
              "\n",
              "      <script>\n",
              "        const buttonEl =\n",
              "          document.querySelector('#df-d8c9082c-d8ef-4da5-a2f6-d3de3305ef9e button.colab-df-convert');\n",
              "        buttonEl.style.display =\n",
              "          google.colab.kernel.accessAllowed ? 'block' : 'none';\n",
              "\n",
              "        async function convertToInteractive(key) {\n",
              "          const element = document.querySelector('#df-d8c9082c-d8ef-4da5-a2f6-d3de3305ef9e');\n",
              "          const dataTable =\n",
              "            await google.colab.kernel.invokeFunction('convertToInteractive',\n",
              "                                                     [key], {});\n",
              "          if (!dataTable) return;\n",
              "\n",
              "          const docLinkHtml = 'Like what you see? Visit the ' +\n",
              "            '<a target=\"_blank\" href=https://colab.research.google.com/notebooks/data_table.ipynb>data table notebook</a>'\n",
              "            + ' to learn more about interactive tables.';\n",
              "          element.innerHTML = '';\n",
              "          dataTable['output_type'] = 'display_data';\n",
              "          await google.colab.output.renderOutput(dataTable, element);\n",
              "          const docLink = document.createElement('div');\n",
              "          docLink.innerHTML = docLinkHtml;\n",
              "          element.appendChild(docLink);\n",
              "        }\n",
              "      </script>\n",
              "    </div>\n",
              "  </div>\n",
              "  "
            ]
          },
          "metadata": {},
          "execution_count": 5
        }
      ],
      "source": [
        "normalized_df['species'] = df['species']\n",
        "normalized_df"
      ]
    },
    {
      "cell_type": "code",
      "execution_count": 6,
      "metadata": {
        "pycharm": {
          "name": "#%%\n"
        },
        "colab": {
          "base_uri": "https://localhost:8080/",
          "height": 428
        },
        "id": "s4K3z9uYm01W",
        "outputId": "73850ef3-6429-4549-82d9-1a693963b3b6"
      },
      "outputs": [
        {
          "output_type": "display_data",
          "data": {
            "text/plain": [
              "<Figure size 504x504 with 1 Axes>"
            ],
            "image/png": "[encoded data removed]"
          },
          "metadata": {
            "needs_background": "light"
          }
        }
      ],
      "source": [
        "fig, ax = plt.subplots(figsize=(7, 7))\n",
        "sns.scatterplot(data=df_numeric, s=50)\n",
        "plt.show()"
      ]
    },
    {
      "cell_type": "markdown",
      "source": [
        "Normalize edilmiş verilerin bulunduğu dataframe test ve eğitim seti olmak üzere ikiye bölündü\n",
        "\n",
        "---"
      ],
      "metadata": {
        "id": "ftNNljEjz8CG"
      }
    },
    {
      "cell_type": "code",
      "execution_count": 7,
      "metadata": {
        "pycharm": {
          "name": "#%%\n"
        },
        "id": "ijgvpIB8m01X"
      },
      "outputs": [],
      "source": [
        "train = normalized_df.sample(frac=0.6, random_state=450)\n",
        "test = normalized_df.drop(train.index)\n",
        "# train, test = train_test_split(df, test_size=0.8)"
      ]
    },
    {
      "cell_type": "code",
      "execution_count": 8,
      "metadata": {
        "pycharm": {
          "name": "#%%\n"
        },
        "colab": {
          "base_uri": "https://localhost:8080/"
        },
        "id": "CaLLVtCMm01Y",
        "outputId": "06c1b156-83b8-4fb4-9ef6-8640445ebe71"
      },
      "outputs": [
        {
          "output_type": "execute_result",
          "data": {
            "text/plain": [
              "setosa        33\n",
              "virginica     29\n",
              "versicolor    28\n",
              "Name: species, dtype: int64"
            ]
          },
          "metadata": {},
          "execution_count": 8
        }
      ],
      "source": [
        "train['species'].value_counts()"
      ]
    },
    {
      "cell_type": "code",
      "execution_count": 9,
      "metadata": {
        "pycharm": {
          "name": "#%%\n"
        },
        "colab": {
          "base_uri": "https://localhost:8080/"
        },
        "id": "Tw3_iPpGm01Z",
        "outputId": "b914c640-caba-40aa-a862-d1e6749ae1d5"
      },
      "outputs": [
        {
          "output_type": "execute_result",
          "data": {
            "text/plain": [
              "versicolor    22\n",
              "virginica     21\n",
              "setosa        17\n",
              "Name: species, dtype: int64"
            ]
          },
          "metadata": {},
          "execution_count": 9
        }
      ],
      "source": [
        "test['species'].value_counts()"
      ]
    },
    {
      "cell_type": "markdown",
      "source": [
        "Get Distance Metotu\n",
        "---\n",
        "\n",
        "> Verilen kolonlardaki değerelere göre <b>Manhattan, Euclidean <small>ve</small> Minkowski</b> uzaklarını hesaplayan fonksiyon.\n",
        "\n",
        "<hr>\n",
        "\n",
        "*   Manhattan &emsp; &rarr; &emsp; p  &mdash;  1\n",
        "*   Euclidean &emsp; &rarr; &emsp; p  &mdash;  2\n",
        "*   Minkowski (3) &emsp; &rarr; &emsp; p  &mdash;  3\n",
        "*   Minkowski (4) &emsp; &rarr; &emsp; p  &mdash;  4\n",
        "\n",
        "\n"
      ],
      "metadata": {
        "id": "T5UbWc400MOl"
      }
    },
    {
      "cell_type": "code",
      "execution_count": 10,
      "metadata": {
        "pycharm": {
          "name": "#%%\n"
        },
        "id": "BM_Zr_iRm01a"
      },
      "outputs": [],
      "source": [
        "def get_distince(features: list, p: float, columns=train):\n",
        "    numeric = columns.select_dtypes(include=['float64', 'int64'])\n",
        "    values = []\n",
        "\n",
        "    for feature, column in zip(features, numeric.columns):\n",
        "        values_col = []\n",
        "\n",
        "        for index in numeric.index:\n",
        "            values_col.append(abs((numeric[column][index] - feature)))\n",
        "\n",
        "        values.append(values_col)\n",
        "\n",
        "    distinces = []\n",
        "\n",
        "    for row in zip(*values):\n",
        "        total = 0\n",
        "        for value in row:\n",
        "            total += value ** p\n",
        "\n",
        "        distinces.append((total ** (1 / p)))\n",
        "\n",
        "    return distinces"
      ]
    },
    {
      "cell_type": "markdown",
      "source": [
        "Get Tag Metotu\n",
        "---\n",
        "> Verilen etiket tablosundaki verileri uzaklık ağırlığına göre çıkardığı en fazla yakınlık ilişkisi olan etiketi döndüren fonksiyondur.\n",
        ">> Herhangi bir ağırlık tablosu verilmediğinde bütün verileri çarpma işleminde etkisiz eleman olan 1 le doldurur ve sadece etiket sayısına göre çalışır."
      ],
      "metadata": {
        "id": "b28kfJ3l4Sey"
      }
    },
    {
      "cell_type": "code",
      "execution_count": 11,
      "metadata": {
        "pycharm": {
          "name": "#%%\n"
        },
        "id": "kicP3bMJm01c"
      },
      "outputs": [],
      "source": [
        "def get_tag(tags: list, weights=None):\n",
        "\n",
        "    results = {}\n",
        "    tags = list(tags)\n",
        "\n",
        "    for tag in tags:\n",
        "        results[tag] = 0\n",
        "\n",
        "    if weights is None:\n",
        "        weights = [1 for x in range(len(tags))]\n",
        "    else:\n",
        "        weights = list(weights)\n",
        "\n",
        "    for i in range(len(tags)):\n",
        "        if weights[i] == 0:\n",
        "            weights[i] = 0.000001\n",
        "        results[tags[i]] += 1 / (weights[i] ** 2)\n",
        "\n",
        "    tag, weight = tags[0], weights[0]\n",
        "\n",
        "    for i, j in results.items():\n",
        "        if j > weight:\n",
        "            weight = j\n",
        "            tag = i\n",
        "\n",
        "    return tag"
      ]
    },
    {
      "cell_type": "markdown",
      "source": [
        "Verilerin sözük yapısına kaydedilmesi\n",
        "---\n",
        "> Bu kısımda k değeri (en yakın komşu sayısı) **1'den 10'a** kadar çalışır.\n",
        ">> Her **k** değeri için test veri setindeki her satır **KNN** algoritmasına tabii tutulur. <br>\n",
        ">>> **Manhattan**, **Euclidean** ve 2 **Minkowski** uzaklık değerine göre **4 farklı** etiketleme yapılır ve  doğrulukları test edilir.\n",
        "\n",
        "\n",
        "\n",
        "\n",
        "\n"
      ],
      "metadata": {
        "id": "P2SHVfeL5aID"
      }
    },
    {
      "cell_type": "code",
      "execution_count": 12,
      "metadata": {
        "pycharm": {
          "name": "#%%\n"
        },
        "id": "MvZMfGVXm01d"
      },
      "outputs": [],
      "source": [
        "results = {'total guesses' : len(test['species'])}\n",
        "\n",
        "for k in range(1,11):\n",
        "\n",
        "    results[f'k{k}'] = {}\n",
        "    results[f'k{k}']['guesses'] = {}\n",
        "    results[f'k{k}']['correct guesses'] = {}\n",
        "\n",
        "\n",
        "    for index in test.index:\n",
        "\n",
        "        tag = test.at[index, 'species']\n",
        "        sepal_length = test.at[index, 'sepal_length']\n",
        "        sepal_width = test.at[index, 'sepal_width']\n",
        "        petal_length = test.at[index, 'petal_length']\n",
        "        petal_width = test.at[index, 'petal_width']\n",
        "\n",
        "        temporary_df = train\n",
        "        features = [sepal_length, sepal_width, petal_length, petal_width]\n",
        "\n",
        "        for i in range(1,5):\n",
        "            temporary_df[f'd{i}'] = get_distince(features=features, p=i)\n",
        "            sorted_temporary = temporary_df.iloc[(temporary_df[f'd{i}']).argsort()]\n",
        "\n",
        "            guess = get_tag(tags=sorted_temporary['species'].head(k), weights=sorted_temporary[f'd{i}'].head(k))\n",
        "\n",
        "            if not f'd{i}' in results[f'k{k}']['guesses'].keys():\n",
        "                results[f'k{k}']['guesses'][f'd{i}'] = {}\n",
        "\n",
        "            if not f'd{i}' in results[f'k{k}']['correct guesses'].keys():\n",
        "                results[f'k{k}']['correct guesses'][f'd{i}'] = {}\n",
        "\n",
        "            if not guess in results[f'k{k}']['guesses'][f'd{i}'].keys():\n",
        "                results[f'k{k}']['guesses'][f'd{i}'][guess] = 1\n",
        "            else:\n",
        "                results[f'k{k}']['guesses'][f'd{i}'][guess] += 1\n",
        "\n",
        "            if not guess in results[f'k{k}']['correct guesses'][f'd{i}'].keys():\n",
        "                results[f'k{k}']['correct guesses'][f'd{i}'][guess] = 0\n",
        "\n",
        "            if guess == tag:\n",
        "                    results[f'k{k}']['correct guesses'][f'd{i}'][guess] += 1"
      ]
    },
    {
      "cell_type": "markdown",
      "source": [
        "Sonuçların Ekrana Yazılması \n",
        "---"
      ],
      "metadata": {
        "id": "qKZnH7o49J6n"
      }
    },
    {
      "cell_type": "code",
      "execution_count": 13,
      "metadata": {
        "pycharm": {
          "name": "#%%\n"
        },
        "colab": {
          "base_uri": "https://localhost:8080/"
        },
        "id": "i10bCjckm01e",
        "outputId": "f06ab079-5544-440d-82aa-776a8fcf90d9"
      },
      "outputs": [
        {
          "output_type": "stream",
          "name": "stdout",
          "text": [
            "k1\t  1.00  0.95  0.91\t|| %95.0 ||\t  1.00  1.00  0.91\t|| %96.7 ||\t  1.00  1.00  0.88\t|| %95.0 ||\t  1.00  1.00  0.88\t|| %95.0 ||\t\n",
            "k2\t  1.00  0.95  0.91\t|| %95.0 ||\t  1.00  1.00  0.91\t|| %96.7 ||\t  1.00  1.00  0.88\t|| %95.0 ||\t  1.00  1.00  0.88\t|| %95.0 ||\t\n",
            "k3\t  1.00  0.95  0.91\t|| %95.0 ||\t  1.00  0.95  0.91\t|| %95.0 ||\t  1.00  0.95  0.91\t|| %95.0 ||\t  1.00  0.95  0.91\t|| %95.0 ||\t\n",
            "k4\t  1.00  0.95  0.91\t|| %95.0 ||\t  1.00  1.00  0.91\t|| %96.7 ||\t  1.00  1.00  0.91\t|| %96.7 ||\t  1.00  1.00  0.91\t|| %96.7 ||\t\n",
            "k5\t  1.00  1.00  0.91\t|| %96.7 ||\t  1.00  1.00  0.91\t|| %96.7 ||\t  1.00  1.00  0.91\t|| %96.7 ||\t  1.00  1.00  0.91\t|| %96.7 ||\t\n",
            "k6\t  1.00  1.00  0.91\t|| %96.7 ||\t  1.00  1.00  0.91\t|| %96.7 ||\t  1.00  1.00  0.91\t|| %96.7 ||\t  1.00  1.00  0.91\t|| %96.7 ||\t\n",
            "k7\t  1.00  1.00  0.91\t|| %96.7 ||\t  1.00  1.00  0.91\t|| %96.7 ||\t  1.00  1.00  0.91\t|| %96.7 ||\t  1.00  1.00  0.91\t|| %96.7 ||\t\n",
            "k8\t  1.00  1.00  0.91\t|| %96.7 ||\t  1.00  1.00  0.91\t|| %96.7 ||\t  1.00  1.00  0.91\t|| %96.7 ||\t  1.00  1.00  0.91\t|| %96.7 ||\t\n",
            "k9\t  1.00  1.00  0.91\t|| %96.7 ||\t  1.00  1.00  0.91\t|| %96.7 ||\t  1.00  1.00  0.91\t|| %96.7 ||\t  1.00  1.00  0.91\t|| %96.7 ||\t\n",
            "k10\t  1.00  1.00  0.91\t|| %96.7 ||\t  1.00  1.00  0.91\t|| %96.7 ||\t  1.00  1.00  0.91\t|| %96.7 ||\t  1.00  1.00  0.91\t|| %96.7 ||\t\n"
          ]
        }
      ],
      "source": [
        "for key in results.keys():\n",
        "\n",
        "    if key != 'total guesses':\n",
        "        guesses = results[key]['guesses']\n",
        "        correct_guesses = results[key]['correct guesses']\n",
        "\n",
        "        text = f\"{key}\\t\"\n",
        "        for d in guesses:\n",
        "            dg = dict(guesses[d])\n",
        "            dcg = dict(correct_guesses[d])\n",
        "\n",
        "            for tag in dg.keys():\n",
        "                total = sum(dcg.values())\n",
        "                text +=  \"{:6.2f}\".format((dcg[tag] / dg[tag]))\n",
        "\n",
        "                if tag == list(dg.keys())[-1]:\n",
        "                    text += \"\\t|| %{:.1f} ||\\t\".format((total / results['total guesses'] * 100))\n",
        "        print(text)"
      ]
    },
    {
      "cell_type": "markdown",
      "source": [
        "> **k** Değerlerinin mesafe algoritmalarına göre değişimi ve etiketler üzerindeki doğruluk oranları\n",
        "\n",
        "<br>\n",
        "\n",
        "*   seto &emsp;&rarr;&emsp; Setosa\n",
        "*   verc &emsp;&rarr;&emsp; Versicolor\n",
        "*   virg &nbsp;&emsp;&rarr;&emsp; Virginica\n",
        "*   avg  &nbsp;&emsp;&rarr;&emsp; Doğruluk oranı\n",
        "\n",
        "<br> \n",
        "<hr>\n",
        "\n",
        "**Tablo 1 ve 2 arasındaki temel fark eğitim ve test veri setlerinin farklılığıdır.**\n",
        "<br> <br> \n",
        "\n",
        "<img src='https://www.linkpicture.com/q/genel.png' type='image'>\n",
        "<img src='https://www.linkpicture.com/q/genel2.png' type='image'>"
      ],
      "metadata": {
        "id": "KDMEVIHcwDxI"
      }
    }
  ],
  "metadata": {
    "kernelspec": {
      "display_name": "Python 3 (ipykernel)",
      "language": "python",
      "name": "python3"
    },
    "language_info": {
      "codemirror_mode": {
        "name": "ipython",
        "version": 3
      },
      "file_extension": ".py",
      "mimetype": "text/x-python",
      "name": "python",
      "nbconvert_exporter": "python",
      "pygments_lexer": "ipython3",
      "version": "3.10.2"
    },
    "colab": {
      "name": "KNN.ipynb",
      "provenance": [],
      "collapsed_sections": []
    }
  },
  "nbformat": 4,
  "nbformat_minor": 0
}